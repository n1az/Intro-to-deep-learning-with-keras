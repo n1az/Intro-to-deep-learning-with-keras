{
  "nbformat": 4,
  "nbformat_minor": 0,
  "metadata": {
    "kernelspec": {
      "display_name": "Python 3",
      "language": "python",
      "name": "python3"
    },
    "language_info": {
      "codemirror_mode": {
        "name": "ipython",
        "version": 3
      },
      "file_extension": ".py",
      "mimetype": "text/x-python",
      "name": "python",
      "nbconvert_exporter": "python",
      "pygments_lexer": "ipython3",
      "version": "3.6.9"
    },
    "colab": {
      "name": "Peer-graded Assignment: Build a Regression Model in Keras (A).ipynb",
      "provenance": [],
      "include_colab_link": true
    }
  },
  "cells": [
    {
      "cell_type": "markdown",
      "metadata": {
        "id": "view-in-github",
        "colab_type": "text"
      },
      "source": [
        "<a href=\"https://colab.research.google.com/github/n1az/Intro-to-deep-learning-with-keras/blob/main/Week%205/Final%20Assignment/Peer-graded%20Assignment%3A%20Build%20a%20Regression%20Model%20in%20Keras%20(A).ipynb\" target=\"_parent\"><img src=\"https://colab.research.google.com/assets/colab-badge.svg\" alt=\"Open In Colab\"/></a>"
      ]
    },
    {
      "cell_type": "markdown",
      "metadata": {
        "id": "DWXfMlp2YyuA"
      },
      "source": [
        "## Download and Clean Dataset"
      ]
    },
    {
      "cell_type": "markdown",
      "metadata": {
        "id": "Kx7W8VzMYyuD"
      },
      "source": [
        "Let's start by importing the <em>pandas</em> and the Numpy libraries."
      ]
    },
    {
      "cell_type": "code",
      "metadata": {
        "id": "Qvczv63FYyuE"
      },
      "source": [
        "import pandas as pd\n",
        "import numpy as np"
      ],
      "execution_count": 1,
      "outputs": []
    },
    {
      "cell_type": "markdown",
      "metadata": {
        "id": "2b2eh2RjYyuF"
      },
      "source": [
        "We will be using the dataset provided in the assignment\n",
        "\n",
        "<strong>The dataset is about the compressive strength of different samples of concrete based on the volumes of the different ingredients that were used to make them. Ingredients include:</strong>\n",
        "\n",
        "<strong>1. Cement</strong>\n",
        "\n",
        "<strong>2. Blast Furnace Slag</strong>\n",
        "\n",
        "<strong>3. Fly Ash</strong>\n",
        "\n",
        "<strong>4. Water</strong>\n",
        "\n",
        "<strong>5. Superplasticizer</strong>\n",
        "\n",
        "<strong>6. Coarse Aggregate</strong>\n",
        "\n",
        "<strong>7. Fine Aggregate</strong>"
      ]
    },
    {
      "cell_type": "markdown",
      "metadata": {
        "id": "9gBC8eYAYyuF"
      },
      "source": [
        "Let's read the dataset into a <em>pandas</em> dataframe."
      ]
    },
    {
      "cell_type": "code",
      "metadata": {
        "id": "Ifk8UOTgYyuG",
        "outputId": "2bb6721e-f0e7-4226-c26a-c309d73dd675",
        "colab": {
          "base_uri": "https://localhost:8080/",
          "height": 204
        }
      },
      "source": [
        "concrete_data = pd.read_csv('sample_data/concrete_data.csv')\n",
        "concrete_data.head()"
      ],
      "execution_count": 4,
      "outputs": [
        {
          "output_type": "execute_result",
          "data": {
            "text/html": [
              "<div>\n",
              "<style scoped>\n",
              "    .dataframe tbody tr th:only-of-type {\n",
              "        vertical-align: middle;\n",
              "    }\n",
              "\n",
              "    .dataframe tbody tr th {\n",
              "        vertical-align: top;\n",
              "    }\n",
              "\n",
              "    .dataframe thead th {\n",
              "        text-align: right;\n",
              "    }\n",
              "</style>\n",
              "<table border=\"1\" class=\"dataframe\">\n",
              "  <thead>\n",
              "    <tr style=\"text-align: right;\">\n",
              "      <th></th>\n",
              "      <th>Cement</th>\n",
              "      <th>Blast Furnace Slag</th>\n",
              "      <th>Fly Ash</th>\n",
              "      <th>Water</th>\n",
              "      <th>Superplasticizer</th>\n",
              "      <th>Coarse Aggregate</th>\n",
              "      <th>Fine Aggregate</th>\n",
              "      <th>Age</th>\n",
              "      <th>Strength</th>\n",
              "    </tr>\n",
              "  </thead>\n",
              "  <tbody>\n",
              "    <tr>\n",
              "      <th>0</th>\n",
              "      <td>540.0</td>\n",
              "      <td>0.0</td>\n",
              "      <td>0.0</td>\n",
              "      <td>162.0</td>\n",
              "      <td>2.5</td>\n",
              "      <td>1040.0</td>\n",
              "      <td>676.0</td>\n",
              "      <td>28</td>\n",
              "      <td>79.99</td>\n",
              "    </tr>\n",
              "    <tr>\n",
              "      <th>1</th>\n",
              "      <td>540.0</td>\n",
              "      <td>0.0</td>\n",
              "      <td>0.0</td>\n",
              "      <td>162.0</td>\n",
              "      <td>2.5</td>\n",
              "      <td>1055.0</td>\n",
              "      <td>676.0</td>\n",
              "      <td>28</td>\n",
              "      <td>61.89</td>\n",
              "    </tr>\n",
              "    <tr>\n",
              "      <th>2</th>\n",
              "      <td>332.5</td>\n",
              "      <td>142.5</td>\n",
              "      <td>0.0</td>\n",
              "      <td>228.0</td>\n",
              "      <td>0.0</td>\n",
              "      <td>932.0</td>\n",
              "      <td>594.0</td>\n",
              "      <td>270</td>\n",
              "      <td>40.27</td>\n",
              "    </tr>\n",
              "    <tr>\n",
              "      <th>3</th>\n",
              "      <td>332.5</td>\n",
              "      <td>142.5</td>\n",
              "      <td>0.0</td>\n",
              "      <td>228.0</td>\n",
              "      <td>0.0</td>\n",
              "      <td>932.0</td>\n",
              "      <td>594.0</td>\n",
              "      <td>365</td>\n",
              "      <td>41.05</td>\n",
              "    </tr>\n",
              "    <tr>\n",
              "      <th>4</th>\n",
              "      <td>198.6</td>\n",
              "      <td>132.4</td>\n",
              "      <td>0.0</td>\n",
              "      <td>192.0</td>\n",
              "      <td>0.0</td>\n",
              "      <td>978.4</td>\n",
              "      <td>825.5</td>\n",
              "      <td>360</td>\n",
              "      <td>44.30</td>\n",
              "    </tr>\n",
              "  </tbody>\n",
              "</table>\n",
              "</div>"
            ],
            "text/plain": [
              "   Cement  Blast Furnace Slag  Fly Ash  ...  Fine Aggregate  Age  Strength\n",
              "0   540.0                 0.0      0.0  ...           676.0   28     79.99\n",
              "1   540.0                 0.0      0.0  ...           676.0   28     61.89\n",
              "2   332.5               142.5      0.0  ...           594.0  270     40.27\n",
              "3   332.5               142.5      0.0  ...           594.0  365     41.05\n",
              "4   198.6               132.4      0.0  ...           825.5  360     44.30\n",
              "\n",
              "[5 rows x 9 columns]"
            ]
          },
          "metadata": {
            "tags": []
          },
          "execution_count": 4
        }
      ]
    },
    {
      "cell_type": "markdown",
      "metadata": {
        "id": "kXOpKnm9YyuI"
      },
      "source": [
        "So the first concrete sample has 540 cubic meter of cement, 0 cubic meter of blast furnace slag, 0 cubic meter of fly ash, 162 cubic meter of water, 2.5 cubic meter of superplaticizer, 1040 cubic meter of coarse aggregate, 676 cubic meter of fine aggregate. Such a concrete mix which is 28 days old, has a compressive strength of 79.99 MPa. "
      ]
    },
    {
      "cell_type": "markdown",
      "metadata": {
        "id": "v4ypKzrxYyuI"
      },
      "source": [
        "#### Let's check how many data points we have."
      ]
    },
    {
      "cell_type": "code",
      "metadata": {
        "id": "lIY0feGgYyuI",
        "outputId": "5f10d4e2-ed8c-4380-b36d-1fe1a6b3121a",
        "colab": {
          "base_uri": "https://localhost:8080/"
        }
      },
      "source": [
        "concrete_data.shape"
      ],
      "execution_count": 5,
      "outputs": [
        {
          "output_type": "execute_result",
          "data": {
            "text/plain": [
              "(1030, 9)"
            ]
          },
          "metadata": {
            "tags": []
          },
          "execution_count": 5
        }
      ]
    },
    {
      "cell_type": "markdown",
      "metadata": {
        "id": "20yLufcwYyuJ"
      },
      "source": [
        "So, there are approximately 1000 samples to train our model on. Because of the few samples, we have to be careful not to overfit the training data."
      ]
    },
    {
      "cell_type": "markdown",
      "metadata": {
        "id": "4qt_K--oYyuJ"
      },
      "source": [
        "Let's check the dataset for any missing values."
      ]
    },
    {
      "cell_type": "code",
      "metadata": {
        "id": "8X2AT0o7YyuK",
        "outputId": "1e7d58d6-0d34-4f6e-b2d5-559c8a58e1c5",
        "colab": {
          "base_uri": "https://localhost:8080/",
          "height": 297
        }
      },
      "source": [
        "concrete_data.describe()"
      ],
      "execution_count": 6,
      "outputs": [
        {
          "output_type": "execute_result",
          "data": {
            "text/html": [
              "<div>\n",
              "<style scoped>\n",
              "    .dataframe tbody tr th:only-of-type {\n",
              "        vertical-align: middle;\n",
              "    }\n",
              "\n",
              "    .dataframe tbody tr th {\n",
              "        vertical-align: top;\n",
              "    }\n",
              "\n",
              "    .dataframe thead th {\n",
              "        text-align: right;\n",
              "    }\n",
              "</style>\n",
              "<table border=\"1\" class=\"dataframe\">\n",
              "  <thead>\n",
              "    <tr style=\"text-align: right;\">\n",
              "      <th></th>\n",
              "      <th>Cement</th>\n",
              "      <th>Blast Furnace Slag</th>\n",
              "      <th>Fly Ash</th>\n",
              "      <th>Water</th>\n",
              "      <th>Superplasticizer</th>\n",
              "      <th>Coarse Aggregate</th>\n",
              "      <th>Fine Aggregate</th>\n",
              "      <th>Age</th>\n",
              "      <th>Strength</th>\n",
              "    </tr>\n",
              "  </thead>\n",
              "  <tbody>\n",
              "    <tr>\n",
              "      <th>count</th>\n",
              "      <td>1030.000000</td>\n",
              "      <td>1030.000000</td>\n",
              "      <td>1030.000000</td>\n",
              "      <td>1030.000000</td>\n",
              "      <td>1030.000000</td>\n",
              "      <td>1030.000000</td>\n",
              "      <td>1030.000000</td>\n",
              "      <td>1030.000000</td>\n",
              "      <td>1030.000000</td>\n",
              "    </tr>\n",
              "    <tr>\n",
              "      <th>mean</th>\n",
              "      <td>281.167864</td>\n",
              "      <td>73.895825</td>\n",
              "      <td>54.188350</td>\n",
              "      <td>181.567282</td>\n",
              "      <td>6.204660</td>\n",
              "      <td>972.918932</td>\n",
              "      <td>773.580485</td>\n",
              "      <td>45.662136</td>\n",
              "      <td>35.817961</td>\n",
              "    </tr>\n",
              "    <tr>\n",
              "      <th>std</th>\n",
              "      <td>104.506364</td>\n",
              "      <td>86.279342</td>\n",
              "      <td>63.997004</td>\n",
              "      <td>21.354219</td>\n",
              "      <td>5.973841</td>\n",
              "      <td>77.753954</td>\n",
              "      <td>80.175980</td>\n",
              "      <td>63.169912</td>\n",
              "      <td>16.705742</td>\n",
              "    </tr>\n",
              "    <tr>\n",
              "      <th>min</th>\n",
              "      <td>102.000000</td>\n",
              "      <td>0.000000</td>\n",
              "      <td>0.000000</td>\n",
              "      <td>121.800000</td>\n",
              "      <td>0.000000</td>\n",
              "      <td>801.000000</td>\n",
              "      <td>594.000000</td>\n",
              "      <td>1.000000</td>\n",
              "      <td>2.330000</td>\n",
              "    </tr>\n",
              "    <tr>\n",
              "      <th>25%</th>\n",
              "      <td>192.375000</td>\n",
              "      <td>0.000000</td>\n",
              "      <td>0.000000</td>\n",
              "      <td>164.900000</td>\n",
              "      <td>0.000000</td>\n",
              "      <td>932.000000</td>\n",
              "      <td>730.950000</td>\n",
              "      <td>7.000000</td>\n",
              "      <td>23.710000</td>\n",
              "    </tr>\n",
              "    <tr>\n",
              "      <th>50%</th>\n",
              "      <td>272.900000</td>\n",
              "      <td>22.000000</td>\n",
              "      <td>0.000000</td>\n",
              "      <td>185.000000</td>\n",
              "      <td>6.400000</td>\n",
              "      <td>968.000000</td>\n",
              "      <td>779.500000</td>\n",
              "      <td>28.000000</td>\n",
              "      <td>34.445000</td>\n",
              "    </tr>\n",
              "    <tr>\n",
              "      <th>75%</th>\n",
              "      <td>350.000000</td>\n",
              "      <td>142.950000</td>\n",
              "      <td>118.300000</td>\n",
              "      <td>192.000000</td>\n",
              "      <td>10.200000</td>\n",
              "      <td>1029.400000</td>\n",
              "      <td>824.000000</td>\n",
              "      <td>56.000000</td>\n",
              "      <td>46.135000</td>\n",
              "    </tr>\n",
              "    <tr>\n",
              "      <th>max</th>\n",
              "      <td>540.000000</td>\n",
              "      <td>359.400000</td>\n",
              "      <td>200.100000</td>\n",
              "      <td>247.000000</td>\n",
              "      <td>32.200000</td>\n",
              "      <td>1145.000000</td>\n",
              "      <td>992.600000</td>\n",
              "      <td>365.000000</td>\n",
              "      <td>82.600000</td>\n",
              "    </tr>\n",
              "  </tbody>\n",
              "</table>\n",
              "</div>"
            ],
            "text/plain": [
              "            Cement  Blast Furnace Slag  ...          Age     Strength\n",
              "count  1030.000000         1030.000000  ...  1030.000000  1030.000000\n",
              "mean    281.167864           73.895825  ...    45.662136    35.817961\n",
              "std     104.506364           86.279342  ...    63.169912    16.705742\n",
              "min     102.000000            0.000000  ...     1.000000     2.330000\n",
              "25%     192.375000            0.000000  ...     7.000000    23.710000\n",
              "50%     272.900000           22.000000  ...    28.000000    34.445000\n",
              "75%     350.000000          142.950000  ...    56.000000    46.135000\n",
              "max     540.000000          359.400000  ...   365.000000    82.600000\n",
              "\n",
              "[8 rows x 9 columns]"
            ]
          },
          "metadata": {
            "tags": []
          },
          "execution_count": 6
        }
      ]
    },
    {
      "cell_type": "code",
      "metadata": {
        "id": "SFGZVNZpYyuK",
        "outputId": "f34bc233-f9f0-466d-c303-e43d9a9e10b9",
        "colab": {
          "base_uri": "https://localhost:8080/"
        }
      },
      "source": [
        "concrete_data.isnull().sum()"
      ],
      "execution_count": 7,
      "outputs": [
        {
          "output_type": "execute_result",
          "data": {
            "text/plain": [
              "Cement                0\n",
              "Blast Furnace Slag    0\n",
              "Fly Ash               0\n",
              "Water                 0\n",
              "Superplasticizer      0\n",
              "Coarse Aggregate      0\n",
              "Fine Aggregate        0\n",
              "Age                   0\n",
              "Strength              0\n",
              "dtype: int64"
            ]
          },
          "metadata": {
            "tags": []
          },
          "execution_count": 7
        }
      ]
    },
    {
      "cell_type": "markdown",
      "metadata": {
        "id": "4HXBUrZsYyuL"
      },
      "source": [
        "The data looks very clean and is ready to be used to build our model."
      ]
    },
    {
      "cell_type": "markdown",
      "metadata": {
        "id": "kdDY5WIlYyuL"
      },
      "source": [
        "#### Split data into predictors and target"
      ]
    },
    {
      "cell_type": "markdown",
      "metadata": {
        "id": "s_5AAAPlYyuM"
      },
      "source": [
        "The target variable in this problem is the concrete sample strength. Therefore, our predictors will be all the other columns."
      ]
    },
    {
      "cell_type": "code",
      "metadata": {
        "id": "S6D4TywFYyuM"
      },
      "source": [
        "concrete_data_columns = concrete_data.columns\n",
        "predictors = concrete_data[concrete_data_columns[concrete_data_columns != 'Strength']] # all columns except Strength\n",
        "target = concrete_data['Strength'] # Strength column"
      ],
      "execution_count": 8,
      "outputs": []
    },
    {
      "cell_type": "markdown",
      "metadata": {
        "id": "hPlUUi7JYyuN"
      },
      "source": [
        "Let's do a quick sanity check of the predictors and the target dataframes."
      ]
    },
    {
      "cell_type": "code",
      "metadata": {
        "id": "r4yLrPwWYyuN",
        "outputId": "525b92c8-35b4-4c76-e0eb-35e2c7574c25",
        "colab": {
          "base_uri": "https://localhost:8080/",
          "height": 204
        }
      },
      "source": [
        "predictors.head()"
      ],
      "execution_count": 9,
      "outputs": [
        {
          "output_type": "execute_result",
          "data": {
            "text/html": [
              "<div>\n",
              "<style scoped>\n",
              "    .dataframe tbody tr th:only-of-type {\n",
              "        vertical-align: middle;\n",
              "    }\n",
              "\n",
              "    .dataframe tbody tr th {\n",
              "        vertical-align: top;\n",
              "    }\n",
              "\n",
              "    .dataframe thead th {\n",
              "        text-align: right;\n",
              "    }\n",
              "</style>\n",
              "<table border=\"1\" class=\"dataframe\">\n",
              "  <thead>\n",
              "    <tr style=\"text-align: right;\">\n",
              "      <th></th>\n",
              "      <th>Cement</th>\n",
              "      <th>Blast Furnace Slag</th>\n",
              "      <th>Fly Ash</th>\n",
              "      <th>Water</th>\n",
              "      <th>Superplasticizer</th>\n",
              "      <th>Coarse Aggregate</th>\n",
              "      <th>Fine Aggregate</th>\n",
              "      <th>Age</th>\n",
              "    </tr>\n",
              "  </thead>\n",
              "  <tbody>\n",
              "    <tr>\n",
              "      <th>0</th>\n",
              "      <td>540.0</td>\n",
              "      <td>0.0</td>\n",
              "      <td>0.0</td>\n",
              "      <td>162.0</td>\n",
              "      <td>2.5</td>\n",
              "      <td>1040.0</td>\n",
              "      <td>676.0</td>\n",
              "      <td>28</td>\n",
              "    </tr>\n",
              "    <tr>\n",
              "      <th>1</th>\n",
              "      <td>540.0</td>\n",
              "      <td>0.0</td>\n",
              "      <td>0.0</td>\n",
              "      <td>162.0</td>\n",
              "      <td>2.5</td>\n",
              "      <td>1055.0</td>\n",
              "      <td>676.0</td>\n",
              "      <td>28</td>\n",
              "    </tr>\n",
              "    <tr>\n",
              "      <th>2</th>\n",
              "      <td>332.5</td>\n",
              "      <td>142.5</td>\n",
              "      <td>0.0</td>\n",
              "      <td>228.0</td>\n",
              "      <td>0.0</td>\n",
              "      <td>932.0</td>\n",
              "      <td>594.0</td>\n",
              "      <td>270</td>\n",
              "    </tr>\n",
              "    <tr>\n",
              "      <th>3</th>\n",
              "      <td>332.5</td>\n",
              "      <td>142.5</td>\n",
              "      <td>0.0</td>\n",
              "      <td>228.0</td>\n",
              "      <td>0.0</td>\n",
              "      <td>932.0</td>\n",
              "      <td>594.0</td>\n",
              "      <td>365</td>\n",
              "    </tr>\n",
              "    <tr>\n",
              "      <th>4</th>\n",
              "      <td>198.6</td>\n",
              "      <td>132.4</td>\n",
              "      <td>0.0</td>\n",
              "      <td>192.0</td>\n",
              "      <td>0.0</td>\n",
              "      <td>978.4</td>\n",
              "      <td>825.5</td>\n",
              "      <td>360</td>\n",
              "    </tr>\n",
              "  </tbody>\n",
              "</table>\n",
              "</div>"
            ],
            "text/plain": [
              "   Cement  Blast Furnace Slag  Fly Ash  ...  Coarse Aggregate  Fine Aggregate  Age\n",
              "0   540.0                 0.0      0.0  ...            1040.0           676.0   28\n",
              "1   540.0                 0.0      0.0  ...            1055.0           676.0   28\n",
              "2   332.5               142.5      0.0  ...             932.0           594.0  270\n",
              "3   332.5               142.5      0.0  ...             932.0           594.0  365\n",
              "4   198.6               132.4      0.0  ...             978.4           825.5  360\n",
              "\n",
              "[5 rows x 8 columns]"
            ]
          },
          "metadata": {
            "tags": []
          },
          "execution_count": 9
        }
      ]
    },
    {
      "cell_type": "code",
      "metadata": {
        "id": "vPR4i3LVYyuN",
        "outputId": "9e68dbc6-6264-4a58-edd7-8cb0e2f6c9ea",
        "colab": {
          "base_uri": "https://localhost:8080/"
        }
      },
      "source": [
        "target.head()"
      ],
      "execution_count": 10,
      "outputs": [
        {
          "output_type": "execute_result",
          "data": {
            "text/plain": [
              "0    79.99\n",
              "1    61.89\n",
              "2    40.27\n",
              "3    41.05\n",
              "4    44.30\n",
              "Name: Strength, dtype: float64"
            ]
          },
          "metadata": {
            "tags": []
          },
          "execution_count": 10
        }
      ]
    },
    {
      "cell_type": "code",
      "metadata": {
        "id": "3UAEYe2KYyuO",
        "outputId": "cd569d4a-452c-4712-ecc0-8bedd73fe694",
        "colab": {
          "base_uri": "https://localhost:8080/"
        }
      },
      "source": [
        "n_cols = predictors.shape[1] # number of predictors\n",
        "n_cols"
      ],
      "execution_count": 11,
      "outputs": [
        {
          "output_type": "execute_result",
          "data": {
            "text/plain": [
              "8"
            ]
          },
          "metadata": {
            "tags": []
          },
          "execution_count": 11
        }
      ]
    },
    {
      "cell_type": "markdown",
      "metadata": {
        "id": "x0RgCFEMYyuO"
      },
      "source": [
        "<a id=\"item1\"></a>"
      ]
    },
    {
      "cell_type": "markdown",
      "metadata": {
        "id": "3yaHy8qqYyuO"
      },
      "source": [
        "<a id=\"item1\"></a>"
      ]
    },
    {
      "cell_type": "markdown",
      "metadata": {
        "id": "uvR1CwUMYyuO"
      },
      "source": [
        "## Import Keras"
      ]
    },
    {
      "cell_type": "markdown",
      "metadata": {
        "id": "O6YMwvFcYyuO"
      },
      "source": [
        "#### Let's go ahead and import the Keras library"
      ]
    },
    {
      "cell_type": "code",
      "metadata": {
        "id": "O8rJPpjXYyuP"
      },
      "source": [
        "import keras"
      ],
      "execution_count": 12,
      "outputs": []
    },
    {
      "cell_type": "markdown",
      "metadata": {
        "id": "z488UGxVYyuP"
      },
      "source": [
        "As you can see, the TensorFlow backend was used to install the Keras library."
      ]
    },
    {
      "cell_type": "markdown",
      "metadata": {
        "id": "6lq19ZxtYyuP"
      },
      "source": [
        "Let's import the rest of the packages from the Keras library that we will need to build our regressoin model."
      ]
    },
    {
      "cell_type": "code",
      "metadata": {
        "id": "bhObJL1kYyuP"
      },
      "source": [
        "from keras.models import Sequential\n",
        "from keras.layers import Dense"
      ],
      "execution_count": 13,
      "outputs": []
    },
    {
      "cell_type": "code",
      "metadata": {
        "id": "K9YDNO2HYyuP"
      },
      "source": [
        "# define regression model\n",
        "def regression_model():\n",
        "    # create model\n",
        "    model = Sequential()\n",
        "    model.add(Dense(10, activation='relu', input_shape=(n_cols,)))\n",
        "    model.add(Dense(1))\n",
        "    \n",
        "    # compile model\n",
        "    model.compile(optimizer='adam', loss='mean_squared_error')\n",
        "    return model"
      ],
      "execution_count": 14,
      "outputs": []
    },
    {
      "cell_type": "markdown",
      "metadata": {
        "id": "CArVCIZ6YyuQ"
      },
      "source": [
        "The above function creates a model that has one hidden layer with 10 neurons and a ReLU activation function. It uses the adam optimizer and the mean squared error as the loss function."
      ]
    },
    {
      "cell_type": "markdown",
      "metadata": {
        "id": "_-0iB8NmYyuQ"
      },
      "source": [
        "Let's import scikit-learn in order to randomly split the data into a training and test sets"
      ]
    },
    {
      "cell_type": "code",
      "metadata": {
        "id": "mqAvjQfVYyuQ"
      },
      "source": [
        "from sklearn.model_selection import train_test_split"
      ],
      "execution_count": 15,
      "outputs": []
    },
    {
      "cell_type": "markdown",
      "metadata": {
        "id": "Mf4bCIFNYyuQ"
      },
      "source": [
        "Splitting the data into a training and test sets by holding 30% of the data for testing"
      ]
    },
    {
      "cell_type": "code",
      "metadata": {
        "id": "SWGoWxOnYyuR"
      },
      "source": [
        "X_train, X_test, y_train, y_test = train_test_split(predictors, target, test_size=0.3, random_state=42)"
      ],
      "execution_count": 16,
      "outputs": []
    },
    {
      "cell_type": "markdown",
      "metadata": {
        "id": "Y6_O_ZMfYyuR"
      },
      "source": [
        "## Train and Test the Network"
      ]
    },
    {
      "cell_type": "markdown",
      "metadata": {
        "id": "4TJlzMvzYyuR"
      },
      "source": [
        "Let's call the function now to create our model."
      ]
    },
    {
      "cell_type": "code",
      "metadata": {
        "id": "S8rrUZZ_YyuR"
      },
      "source": [
        "# build the model\n",
        "model = regression_model()"
      ],
      "execution_count": 17,
      "outputs": []
    },
    {
      "cell_type": "markdown",
      "metadata": {
        "id": "Jn0q50GCYyuR"
      },
      "source": [
        "Next, we will train the model for 50 epochs.\n"
      ]
    },
    {
      "cell_type": "code",
      "metadata": {
        "id": "W0xRz8HKYyuR",
        "outputId": "58da5c03-c1f4-4464-f571-ec7586b872d1",
        "colab": {
          "base_uri": "https://localhost:8080/"
        }
      },
      "source": [
        "# fit the model\n",
        "epochs = 50\n",
        "model.fit(X_train, y_train, epochs=epochs, verbose=1)"
      ],
      "execution_count": 18,
      "outputs": [
        {
          "output_type": "stream",
          "text": [
            "Epoch 1/50\n",
            "23/23 [==============================] - 13s 1ms/step - loss: 40939.3244\n",
            "Epoch 2/50\n",
            "23/23 [==============================] - 0s 1ms/step - loss: 4372.7578\n",
            "Epoch 3/50\n",
            "23/23 [==============================] - 0s 1ms/step - loss: 2981.0444\n",
            "Epoch 4/50\n",
            "23/23 [==============================] - 0s 1ms/step - loss: 2579.7132\n",
            "Epoch 5/50\n",
            "23/23 [==============================] - 0s 1ms/step - loss: 2620.8429\n",
            "Epoch 6/50\n",
            "23/23 [==============================] - 0s 1ms/step - loss: 2186.6059\n",
            "Epoch 7/50\n",
            "23/23 [==============================] - 0s 1ms/step - loss: 2269.2389\n",
            "Epoch 8/50\n",
            "23/23 [==============================] - 0s 1ms/step - loss: 2166.7654\n",
            "Epoch 9/50\n",
            "23/23 [==============================] - 0s 1ms/step - loss: 1877.4918\n",
            "Epoch 10/50\n",
            "23/23 [==============================] - 0s 1ms/step - loss: 1795.4759\n",
            "Epoch 11/50\n",
            "23/23 [==============================] - 0s 1ms/step - loss: 1908.1479\n",
            "Epoch 12/50\n",
            "23/23 [==============================] - 0s 1ms/step - loss: 1665.6668\n",
            "Epoch 13/50\n",
            "23/23 [==============================] - 0s 1ms/step - loss: 1503.0402\n",
            "Epoch 14/50\n",
            "23/23 [==============================] - 0s 1ms/step - loss: 1536.3738\n",
            "Epoch 15/50\n",
            "23/23 [==============================] - 0s 1ms/step - loss: 1433.4706\n",
            "Epoch 16/50\n",
            "23/23 [==============================] - 0s 1ms/step - loss: 1427.7711\n",
            "Epoch 17/50\n",
            "23/23 [==============================] - 0s 1ms/step - loss: 1315.2213\n",
            "Epoch 18/50\n",
            "23/23 [==============================] - 0s 1ms/step - loss: 1179.9933\n",
            "Epoch 19/50\n",
            "23/23 [==============================] - 0s 1ms/step - loss: 1185.8230\n",
            "Epoch 20/50\n",
            "23/23 [==============================] - 0s 1ms/step - loss: 1053.9831\n",
            "Epoch 21/50\n",
            "23/23 [==============================] - 0s 1ms/step - loss: 994.5636\n",
            "Epoch 22/50\n",
            "23/23 [==============================] - 0s 1ms/step - loss: 937.4370\n",
            "Epoch 23/50\n",
            "23/23 [==============================] - 0s 1ms/step - loss: 905.1511\n",
            "Epoch 24/50\n",
            "23/23 [==============================] - 0s 1ms/step - loss: 826.5473\n",
            "Epoch 25/50\n",
            "23/23 [==============================] - 0s 1ms/step - loss: 772.9520\n",
            "Epoch 26/50\n",
            "23/23 [==============================] - 0s 1ms/step - loss: 738.9626\n",
            "Epoch 27/50\n",
            "23/23 [==============================] - 0s 1ms/step - loss: 791.3625\n",
            "Epoch 28/50\n",
            "23/23 [==============================] - 0s 1ms/step - loss: 781.2383\n",
            "Epoch 29/50\n",
            "23/23 [==============================] - 0s 1ms/step - loss: 664.5429\n",
            "Epoch 30/50\n",
            "23/23 [==============================] - 0s 1ms/step - loss: 649.4921\n",
            "Epoch 31/50\n",
            "23/23 [==============================] - 0s 1ms/step - loss: 600.2093\n",
            "Epoch 32/50\n",
            "23/23 [==============================] - 0s 1ms/step - loss: 587.8275\n",
            "Epoch 33/50\n",
            "23/23 [==============================] - 0s 1ms/step - loss: 567.4398\n",
            "Epoch 34/50\n",
            "23/23 [==============================] - 0s 1ms/step - loss: 544.7741\n",
            "Epoch 35/50\n",
            "23/23 [==============================] - 0s 1ms/step - loss: 538.8041\n",
            "Epoch 36/50\n",
            "23/23 [==============================] - 0s 1ms/step - loss: 456.2472\n",
            "Epoch 37/50\n",
            "23/23 [==============================] - 0s 1ms/step - loss: 444.4080\n",
            "Epoch 38/50\n",
            "23/23 [==============================] - 0s 1ms/step - loss: 430.0919\n",
            "Epoch 39/50\n",
            "23/23 [==============================] - 0s 1ms/step - loss: 427.9577\n",
            "Epoch 40/50\n",
            "23/23 [==============================] - 0s 1ms/step - loss: 416.3023\n",
            "Epoch 41/50\n",
            "23/23 [==============================] - 0s 1ms/step - loss: 375.7401\n",
            "Epoch 42/50\n",
            "23/23 [==============================] - 0s 990us/step - loss: 346.8825\n",
            "Epoch 43/50\n",
            "23/23 [==============================] - 0s 1ms/step - loss: 368.9083\n",
            "Epoch 44/50\n",
            "23/23 [==============================] - 0s 1ms/step - loss: 316.0733\n",
            "Epoch 45/50\n",
            "23/23 [==============================] - 0s 1ms/step - loss: 291.5665\n",
            "Epoch 46/50\n",
            "23/23 [==============================] - 0s 1ms/step - loss: 283.5877\n",
            "Epoch 47/50\n",
            "23/23 [==============================] - 0s 1ms/step - loss: 297.4967\n",
            "Epoch 48/50\n",
            "23/23 [==============================] - 0s 1ms/step - loss: 272.7290\n",
            "Epoch 49/50\n",
            "23/23 [==============================] - 0s 1ms/step - loss: 249.2802\n",
            "Epoch 50/50\n",
            "23/23 [==============================] - 0s 1ms/step - loss: 240.8718\n"
          ],
          "name": "stdout"
        },
        {
          "output_type": "execute_result",
          "data": {
            "text/plain": [
              "<keras.callbacks.History at 0x7fb9a7b3dc50>"
            ]
          },
          "metadata": {
            "tags": []
          },
          "execution_count": 18
        }
      ]
    },
    {
      "cell_type": "markdown",
      "metadata": {
        "id": "qKLsGkG3YyuS"
      },
      "source": [
        "Next we need to evaluate the model on the test data."
      ]
    },
    {
      "cell_type": "code",
      "metadata": {
        "id": "GOXAtBzkYyuS",
        "outputId": "9d20bd6a-cb87-48de-9369-b333291cfc16",
        "colab": {
          "base_uri": "https://localhost:8080/"
        }
      },
      "source": [
        "loss_val = model.evaluate(X_test, y_test)\n",
        "y_pred = model.predict(X_test)\n",
        "loss_val"
      ],
      "execution_count": 19,
      "outputs": [
        {
          "output_type": "stream",
          "text": [
            "10/10 [==============================] - 0s 1ms/step - loss: 207.3209\n"
          ],
          "name": "stdout"
        },
        {
          "output_type": "execute_result",
          "data": {
            "text/plain": [
              "207.3208770751953"
            ]
          },
          "metadata": {
            "tags": []
          },
          "execution_count": 19
        }
      ]
    },
    {
      "cell_type": "markdown",
      "metadata": {
        "id": "rPOB9yf3YyuS"
      },
      "source": [
        "Now we need to compute the mean squared error between the predicted concrete strength and the actual concrete strength."
      ]
    },
    {
      "cell_type": "markdown",
      "metadata": {
        "id": "r9qz1xURYyuS"
      },
      "source": [
        "Let's import the mean_squared_error function from Scikit-learn."
      ]
    },
    {
      "cell_type": "code",
      "metadata": {
        "id": "UQ33qGDfYyuT"
      },
      "source": [
        "from sklearn.metrics import mean_squared_error"
      ],
      "execution_count": 20,
      "outputs": []
    },
    {
      "cell_type": "code",
      "metadata": {
        "id": "c-qPoNhKYyuT",
        "outputId": "121bf87a-9bcc-4dce-f048-d2f94915bcea",
        "colab": {
          "base_uri": "https://localhost:8080/"
        }
      },
      "source": [
        "mean_square_error = mean_squared_error(y_test, y_pred)\n",
        "mean = np.mean(mean_square_error)\n",
        "standard_deviation = np.std(mean_square_error)\n",
        "print(mean, standard_deviation)"
      ],
      "execution_count": 21,
      "outputs": [
        {
          "output_type": "stream",
          "text": [
            "207.3209140333177 0.0\n"
          ],
          "name": "stdout"
        }
      ]
    },
    {
      "cell_type": "markdown",
      "metadata": {
        "id": "iJwNjbXuYyuT"
      },
      "source": [
        "Create a list of 50 mean squared errors and report mean and the standard deviation of the mean squared errors."
      ]
    },
    {
      "cell_type": "code",
      "metadata": {
        "id": "W8S80Qg5YyuT",
        "outputId": "607ece2d-da7c-4988-936d-f217886e9447",
        "colab": {
          "base_uri": "https://localhost:8080/"
        }
      },
      "source": [
        "total_mean_squared_errors = 50\n",
        "epochs = 50\n",
        "mean_squared_errors = []\n",
        "for i in range(0, total_mean_squared_errors):\n",
        "    X_train, X_test, y_train, y_test = train_test_split(predictors, target, test_size=0.3, random_state=i)\n",
        "    model.fit(X_train, y_train, epochs=epochs, verbose=0)\n",
        "    MSE = model.evaluate(X_test, y_test, verbose=0)\n",
        "    print(\"MSE \"+str(i+1)+\": \"+str(MSE))\n",
        "    y_pred = model.predict(X_test)\n",
        "    mean_square_error = mean_squared_error(y_test, y_pred)\n",
        "    mean_squared_errors.append(mean_square_error)\n",
        "\n",
        "mean_squared_errors = np.array(mean_squared_errors)\n",
        "mean = np.mean(mean_squared_errors)\n",
        "standard_deviation = np.std(mean_squared_errors)\n",
        "\n",
        "print('\\n')\n",
        "print(\"Below is the mean and standard deviation of \" +str(total_mean_squared_errors) + \" mean squared errors without normalized data. Total number of epochs for each training is: \" +str(epochs) + \"\\n\")\n",
        "print(\"Mean: \"+str(mean))\n",
        "print(\"Standard Deviation: \"+str(standard_deviation))"
      ],
      "execution_count": 22,
      "outputs": [
        {
          "output_type": "stream",
          "text": [
            "MSE 1: 97.32528686523438\n",
            "MSE 2: 121.33012390136719\n",
            "MSE 3: 112.38618469238281\n",
            "MSE 4: 122.06108093261719\n",
            "MSE 5: 124.45306396484375\n",
            "MSE 6: 109.00916290283203\n",
            "MSE 7: 174.87240600585938\n",
            "MSE 8: 100.64875030517578\n",
            "MSE 9: 135.48550415039062\n",
            "MSE 10: 114.16100311279297\n",
            "MSE 11: 121.19094848632812\n",
            "MSE 12: 111.06927490234375\n",
            "MSE 13: 116.02499389648438\n",
            "MSE 14: 123.8412857055664\n",
            "MSE 15: 109.7448959350586\n",
            "MSE 16: 109.20476531982422\n",
            "MSE 17: 118.00322723388672\n",
            "MSE 18: 97.55278778076172\n",
            "MSE 19: 82.90724182128906\n",
            "MSE 20: 66.97381591796875\n",
            "MSE 21: 58.70138168334961\n",
            "MSE 22: 55.91741180419922\n",
            "MSE 23: 50.00056076049805\n",
            "MSE 24: 53.572879791259766\n",
            "MSE 25: 50.26251983642578\n",
            "MSE 26: 51.71039581298828\n",
            "MSE 27: 50.60548782348633\n",
            "MSE 28: 55.87150573730469\n",
            "MSE 29: 52.38945388793945\n",
            "MSE 30: 49.73762893676758\n",
            "MSE 31: 52.80471420288086\n",
            "MSE 32: 42.74457550048828\n",
            "MSE 33: 53.3838996887207\n",
            "MSE 34: 50.924320220947266\n",
            "MSE 35: 49.360084533691406\n",
            "MSE 36: 68.12921905517578\n",
            "MSE 37: 54.71809387207031\n",
            "MSE 38: 52.760162353515625\n",
            "MSE 39: 49.195072174072266\n",
            "MSE 40: 44.41240692138672\n",
            "MSE 41: 56.3421516418457\n",
            "MSE 42: 48.07146072387695\n",
            "MSE 43: 49.719722747802734\n",
            "MSE 44: 53.869720458984375\n",
            "MSE 45: 52.86936950683594\n",
            "MSE 46: 54.87302780151367\n",
            "MSE 47: 51.783477783203125\n",
            "MSE 48: 52.2751350402832\n",
            "MSE 49: 51.626285552978516\n",
            "MSE 50: 53.71916580200195\n",
            "\n",
            "\n",
            "Below is the mean and standard deviation of 50 mean squared errors without normalized data. Total number of epochs for each training is: 50\n",
            "\n",
            "Mean: 76.81194368850967\n",
            "Standard Deviation: 32.79146461250586\n"
          ],
          "name": "stdout"
        }
      ]
    },
    {
      "cell_type": "code",
      "metadata": {
        "id": "GYuPUECqYyuU"
      },
      "source": [
        ""
      ],
      "execution_count": null,
      "outputs": []
    }
  ]
}