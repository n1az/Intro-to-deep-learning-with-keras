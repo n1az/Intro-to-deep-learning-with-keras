{
  "nbformat": 4,
  "nbformat_minor": 0,
  "metadata": {
    "kernelspec": {
      "display_name": "Python 3",
      "language": "python",
      "name": "python3"
    },
    "language_info": {
      "codemirror_mode": {
        "name": "ipython",
        "version": 3
      },
      "file_extension": ".py",
      "mimetype": "text/x-python",
      "name": "python",
      "nbconvert_exporter": "python",
      "pygments_lexer": "ipython3",
      "version": "3.6.9"
    },
    "colab": {
      "name": "Peer-graded Assignment: Build a Regression Model in Keras (B).ipynb",
      "provenance": [],
      "include_colab_link": true
    }
  },
  "cells": [
    {
      "cell_type": "markdown",
      "metadata": {
        "id": "view-in-github",
        "colab_type": "text"
      },
      "source": [
        "<a href=\"https://colab.research.google.com/github/n1az/Intro-to-deep-learning-with-keras/blob/main/Week%205/Final%20Assignment/Peer-graded%20Assignment%3A%20Build%20a%20Regression%20Model%20in%20Keras%20(C).ipynb\" target=\"_parent\"><img src=\"https://colab.research.google.com/assets/colab-badge.svg\" alt=\"Open In Colab\"/></a>"
      ]
    },
    {
      "cell_type": "markdown",
      "metadata": {
        "id": "rrfiSghabdZi"
      },
      "source": [
        "## Download and Clean Dataset"
      ]
    },
    {
      "cell_type": "markdown",
      "metadata": {
        "id": "VlwlhDxIbdZl"
      },
      "source": [
        "Let's start by importing the <em>pandas</em> and the Numpy libraries."
      ]
    },
    {
      "cell_type": "code",
      "metadata": {
        "id": "OSZ8SJDUbdZm"
      },
      "source": [
        "import pandas as pd\n",
        "import numpy as np"
      ],
      "execution_count": 22,
      "outputs": []
    },
    {
      "cell_type": "markdown",
      "metadata": {
        "id": "otgCjxKPbdZm"
      },
      "source": [
        "We will be using the dataset provided in the assignment\n",
        "\n",
        "<strong>The dataset is about the compressive strength of different samples of concrete based on the volumes of the different ingredients that were used to make them. Ingredients include:</strong>\n",
        "\n",
        "<strong>1. Cement</strong>\n",
        "\n",
        "<strong>2. Blast Furnace Slag</strong>\n",
        "\n",
        "<strong>3. Fly Ash</strong>\n",
        "\n",
        "<strong>4. Water</strong>\n",
        "\n",
        "<strong>5. Superplasticizer</strong>\n",
        "\n",
        "<strong>6. Coarse Aggregate</strong>\n",
        "\n",
        "<strong>7. Fine Aggregate</strong>"
      ]
    },
    {
      "cell_type": "markdown",
      "metadata": {
        "id": "bnxM6cBdbdZn"
      },
      "source": [
        "Let's read the dataset into a <em>pandas</em> dataframe."
      ]
    },
    {
      "cell_type": "code",
      "metadata": {
        "colab": {
          "base_uri": "https://localhost:8080/",
          "height": 204
        },
        "id": "KGYNP1-xbdZn",
        "outputId": "5be8a4aa-058e-4440-a87c-805784265a51"
      },
      "source": [
        "concrete_data = pd.read_csv('sample_data/concrete_data.csv')\n",
        "concrete_data.head()"
      ],
      "execution_count": 23,
      "outputs": [
        {
          "output_type": "execute_result",
          "data": {
            "text/html": [
              "<div>\n",
              "<style scoped>\n",
              "    .dataframe tbody tr th:only-of-type {\n",
              "        vertical-align: middle;\n",
              "    }\n",
              "\n",
              "    .dataframe tbody tr th {\n",
              "        vertical-align: top;\n",
              "    }\n",
              "\n",
              "    .dataframe thead th {\n",
              "        text-align: right;\n",
              "    }\n",
              "</style>\n",
              "<table border=\"1\" class=\"dataframe\">\n",
              "  <thead>\n",
              "    <tr style=\"text-align: right;\">\n",
              "      <th></th>\n",
              "      <th>Cement</th>\n",
              "      <th>Blast Furnace Slag</th>\n",
              "      <th>Fly Ash</th>\n",
              "      <th>Water</th>\n",
              "      <th>Superplasticizer</th>\n",
              "      <th>Coarse Aggregate</th>\n",
              "      <th>Fine Aggregate</th>\n",
              "      <th>Age</th>\n",
              "      <th>Strength</th>\n",
              "    </tr>\n",
              "  </thead>\n",
              "  <tbody>\n",
              "    <tr>\n",
              "      <th>0</th>\n",
              "      <td>540.0</td>\n",
              "      <td>0.0</td>\n",
              "      <td>0.0</td>\n",
              "      <td>162.0</td>\n",
              "      <td>2.5</td>\n",
              "      <td>1040.0</td>\n",
              "      <td>676.0</td>\n",
              "      <td>28</td>\n",
              "      <td>79.99</td>\n",
              "    </tr>\n",
              "    <tr>\n",
              "      <th>1</th>\n",
              "      <td>540.0</td>\n",
              "      <td>0.0</td>\n",
              "      <td>0.0</td>\n",
              "      <td>162.0</td>\n",
              "      <td>2.5</td>\n",
              "      <td>1055.0</td>\n",
              "      <td>676.0</td>\n",
              "      <td>28</td>\n",
              "      <td>61.89</td>\n",
              "    </tr>\n",
              "    <tr>\n",
              "      <th>2</th>\n",
              "      <td>332.5</td>\n",
              "      <td>142.5</td>\n",
              "      <td>0.0</td>\n",
              "      <td>228.0</td>\n",
              "      <td>0.0</td>\n",
              "      <td>932.0</td>\n",
              "      <td>594.0</td>\n",
              "      <td>270</td>\n",
              "      <td>40.27</td>\n",
              "    </tr>\n",
              "    <tr>\n",
              "      <th>3</th>\n",
              "      <td>332.5</td>\n",
              "      <td>142.5</td>\n",
              "      <td>0.0</td>\n",
              "      <td>228.0</td>\n",
              "      <td>0.0</td>\n",
              "      <td>932.0</td>\n",
              "      <td>594.0</td>\n",
              "      <td>365</td>\n",
              "      <td>41.05</td>\n",
              "    </tr>\n",
              "    <tr>\n",
              "      <th>4</th>\n",
              "      <td>198.6</td>\n",
              "      <td>132.4</td>\n",
              "      <td>0.0</td>\n",
              "      <td>192.0</td>\n",
              "      <td>0.0</td>\n",
              "      <td>978.4</td>\n",
              "      <td>825.5</td>\n",
              "      <td>360</td>\n",
              "      <td>44.30</td>\n",
              "    </tr>\n",
              "  </tbody>\n",
              "</table>\n",
              "</div>"
            ],
            "text/plain": [
              "   Cement  Blast Furnace Slag  Fly Ash  ...  Fine Aggregate  Age  Strength\n",
              "0   540.0                 0.0      0.0  ...           676.0   28     79.99\n",
              "1   540.0                 0.0      0.0  ...           676.0   28     61.89\n",
              "2   332.5               142.5      0.0  ...           594.0  270     40.27\n",
              "3   332.5               142.5      0.0  ...           594.0  365     41.05\n",
              "4   198.6               132.4      0.0  ...           825.5  360     44.30\n",
              "\n",
              "[5 rows x 9 columns]"
            ]
          },
          "metadata": {
            "tags": []
          },
          "execution_count": 23
        }
      ]
    },
    {
      "cell_type": "markdown",
      "metadata": {
        "id": "orvTl2wEbdZo"
      },
      "source": [
        "So the first concrete sample has 540 cubic meter of cement, 0 cubic meter of blast furnace slag, 0 cubic meter of fly ash, 162 cubic meter of water, 2.5 cubic meter of superplaticizer, 1040 cubic meter of coarse aggregate, 676 cubic meter of fine aggregate. Such a concrete mix which is 28 days old, has a compressive strength of 79.99 MPa. "
      ]
    },
    {
      "cell_type": "markdown",
      "metadata": {
        "id": "UYkSbBFDbdZp"
      },
      "source": [
        "#### Let's check how many data points we have."
      ]
    },
    {
      "cell_type": "code",
      "metadata": {
        "colab": {
          "base_uri": "https://localhost:8080/"
        },
        "id": "ecCzRtjSbdZp",
        "outputId": "a8315800-1f61-4838-f274-b73d35387e5d"
      },
      "source": [
        "concrete_data.shape"
      ],
      "execution_count": 24,
      "outputs": [
        {
          "output_type": "execute_result",
          "data": {
            "text/plain": [
              "(1030, 9)"
            ]
          },
          "metadata": {
            "tags": []
          },
          "execution_count": 24
        }
      ]
    },
    {
      "cell_type": "markdown",
      "metadata": {
        "id": "eVhq7gQ6bdZq"
      },
      "source": [
        "So, there are approximately 1000 samples to train our model on. Because of the few samples, we have to be careful not to overfit the training data."
      ]
    },
    {
      "cell_type": "markdown",
      "metadata": {
        "id": "WP3NUkmnbdZq"
      },
      "source": [
        "Let's check the dataset for any missing values."
      ]
    },
    {
      "cell_type": "code",
      "metadata": {
        "colab": {
          "base_uri": "https://localhost:8080/",
          "height": 297
        },
        "id": "rebeiAckbdZq",
        "outputId": "ae1ec4b7-77f6-42fc-d144-13f710ba8fb3"
      },
      "source": [
        "concrete_data.describe()"
      ],
      "execution_count": 25,
      "outputs": [
        {
          "output_type": "execute_result",
          "data": {
            "text/html": [
              "<div>\n",
              "<style scoped>\n",
              "    .dataframe tbody tr th:only-of-type {\n",
              "        vertical-align: middle;\n",
              "    }\n",
              "\n",
              "    .dataframe tbody tr th {\n",
              "        vertical-align: top;\n",
              "    }\n",
              "\n",
              "    .dataframe thead th {\n",
              "        text-align: right;\n",
              "    }\n",
              "</style>\n",
              "<table border=\"1\" class=\"dataframe\">\n",
              "  <thead>\n",
              "    <tr style=\"text-align: right;\">\n",
              "      <th></th>\n",
              "      <th>Cement</th>\n",
              "      <th>Blast Furnace Slag</th>\n",
              "      <th>Fly Ash</th>\n",
              "      <th>Water</th>\n",
              "      <th>Superplasticizer</th>\n",
              "      <th>Coarse Aggregate</th>\n",
              "      <th>Fine Aggregate</th>\n",
              "      <th>Age</th>\n",
              "      <th>Strength</th>\n",
              "    </tr>\n",
              "  </thead>\n",
              "  <tbody>\n",
              "    <tr>\n",
              "      <th>count</th>\n",
              "      <td>1030.000000</td>\n",
              "      <td>1030.000000</td>\n",
              "      <td>1030.000000</td>\n",
              "      <td>1030.000000</td>\n",
              "      <td>1030.000000</td>\n",
              "      <td>1030.000000</td>\n",
              "      <td>1030.000000</td>\n",
              "      <td>1030.000000</td>\n",
              "      <td>1030.000000</td>\n",
              "    </tr>\n",
              "    <tr>\n",
              "      <th>mean</th>\n",
              "      <td>281.167864</td>\n",
              "      <td>73.895825</td>\n",
              "      <td>54.188350</td>\n",
              "      <td>181.567282</td>\n",
              "      <td>6.204660</td>\n",
              "      <td>972.918932</td>\n",
              "      <td>773.580485</td>\n",
              "      <td>45.662136</td>\n",
              "      <td>35.817961</td>\n",
              "    </tr>\n",
              "    <tr>\n",
              "      <th>std</th>\n",
              "      <td>104.506364</td>\n",
              "      <td>86.279342</td>\n",
              "      <td>63.997004</td>\n",
              "      <td>21.354219</td>\n",
              "      <td>5.973841</td>\n",
              "      <td>77.753954</td>\n",
              "      <td>80.175980</td>\n",
              "      <td>63.169912</td>\n",
              "      <td>16.705742</td>\n",
              "    </tr>\n",
              "    <tr>\n",
              "      <th>min</th>\n",
              "      <td>102.000000</td>\n",
              "      <td>0.000000</td>\n",
              "      <td>0.000000</td>\n",
              "      <td>121.800000</td>\n",
              "      <td>0.000000</td>\n",
              "      <td>801.000000</td>\n",
              "      <td>594.000000</td>\n",
              "      <td>1.000000</td>\n",
              "      <td>2.330000</td>\n",
              "    </tr>\n",
              "    <tr>\n",
              "      <th>25%</th>\n",
              "      <td>192.375000</td>\n",
              "      <td>0.000000</td>\n",
              "      <td>0.000000</td>\n",
              "      <td>164.900000</td>\n",
              "      <td>0.000000</td>\n",
              "      <td>932.000000</td>\n",
              "      <td>730.950000</td>\n",
              "      <td>7.000000</td>\n",
              "      <td>23.710000</td>\n",
              "    </tr>\n",
              "    <tr>\n",
              "      <th>50%</th>\n",
              "      <td>272.900000</td>\n",
              "      <td>22.000000</td>\n",
              "      <td>0.000000</td>\n",
              "      <td>185.000000</td>\n",
              "      <td>6.400000</td>\n",
              "      <td>968.000000</td>\n",
              "      <td>779.500000</td>\n",
              "      <td>28.000000</td>\n",
              "      <td>34.445000</td>\n",
              "    </tr>\n",
              "    <tr>\n",
              "      <th>75%</th>\n",
              "      <td>350.000000</td>\n",
              "      <td>142.950000</td>\n",
              "      <td>118.300000</td>\n",
              "      <td>192.000000</td>\n",
              "      <td>10.200000</td>\n",
              "      <td>1029.400000</td>\n",
              "      <td>824.000000</td>\n",
              "      <td>56.000000</td>\n",
              "      <td>46.135000</td>\n",
              "    </tr>\n",
              "    <tr>\n",
              "      <th>max</th>\n",
              "      <td>540.000000</td>\n",
              "      <td>359.400000</td>\n",
              "      <td>200.100000</td>\n",
              "      <td>247.000000</td>\n",
              "      <td>32.200000</td>\n",
              "      <td>1145.000000</td>\n",
              "      <td>992.600000</td>\n",
              "      <td>365.000000</td>\n",
              "      <td>82.600000</td>\n",
              "    </tr>\n",
              "  </tbody>\n",
              "</table>\n",
              "</div>"
            ],
            "text/plain": [
              "            Cement  Blast Furnace Slag  ...          Age     Strength\n",
              "count  1030.000000         1030.000000  ...  1030.000000  1030.000000\n",
              "mean    281.167864           73.895825  ...    45.662136    35.817961\n",
              "std     104.506364           86.279342  ...    63.169912    16.705742\n",
              "min     102.000000            0.000000  ...     1.000000     2.330000\n",
              "25%     192.375000            0.000000  ...     7.000000    23.710000\n",
              "50%     272.900000           22.000000  ...    28.000000    34.445000\n",
              "75%     350.000000          142.950000  ...    56.000000    46.135000\n",
              "max     540.000000          359.400000  ...   365.000000    82.600000\n",
              "\n",
              "[8 rows x 9 columns]"
            ]
          },
          "metadata": {
            "tags": []
          },
          "execution_count": 25
        }
      ]
    },
    {
      "cell_type": "code",
      "metadata": {
        "colab": {
          "base_uri": "https://localhost:8080/"
        },
        "id": "ExX0DoYxbdZr",
        "outputId": "19a81c9f-3863-4efa-ff11-b3482d348ce4"
      },
      "source": [
        "concrete_data.isnull().sum()"
      ],
      "execution_count": 26,
      "outputs": [
        {
          "output_type": "execute_result",
          "data": {
            "text/plain": [
              "Cement                0\n",
              "Blast Furnace Slag    0\n",
              "Fly Ash               0\n",
              "Water                 0\n",
              "Superplasticizer      0\n",
              "Coarse Aggregate      0\n",
              "Fine Aggregate        0\n",
              "Age                   0\n",
              "Strength              0\n",
              "dtype: int64"
            ]
          },
          "metadata": {
            "tags": []
          },
          "execution_count": 26
        }
      ]
    },
    {
      "cell_type": "markdown",
      "metadata": {
        "id": "QEAnk0SfbdZr"
      },
      "source": [
        "The data looks very clean and is ready to be used to build our model."
      ]
    },
    {
      "cell_type": "markdown",
      "metadata": {
        "id": "aTvJ3u8EbdZr"
      },
      "source": [
        "#### Split data into predictors and target"
      ]
    },
    {
      "cell_type": "markdown",
      "metadata": {
        "id": "pwiRtzOfbdZs"
      },
      "source": [
        "The target variable in this problem is the concrete sample strength. Therefore, our predictors will be all the other columns."
      ]
    },
    {
      "cell_type": "code",
      "metadata": {
        "id": "UXBW7DhpbdZs"
      },
      "source": [
        "concrete_data_columns = concrete_data.columns\n",
        "predictors = concrete_data[concrete_data_columns[concrete_data_columns != 'Strength']] # all columns except Strength\n",
        "target = concrete_data['Strength'] # Strength column"
      ],
      "execution_count": 27,
      "outputs": []
    },
    {
      "cell_type": "markdown",
      "metadata": {
        "id": "b1qOnIfibdZs"
      },
      "source": [
        "Let's do a quick sanity check of the predictors and the target dataframes."
      ]
    },
    {
      "cell_type": "code",
      "metadata": {
        "colab": {
          "base_uri": "https://localhost:8080/",
          "height": 204
        },
        "id": "P4Z3eeCjbdZs",
        "outputId": "9bcc1b80-65b2-45ce-8c41-6c9b1a2ccb0e"
      },
      "source": [
        "predictors.head()"
      ],
      "execution_count": 28,
      "outputs": [
        {
          "output_type": "execute_result",
          "data": {
            "text/html": [
              "<div>\n",
              "<style scoped>\n",
              "    .dataframe tbody tr th:only-of-type {\n",
              "        vertical-align: middle;\n",
              "    }\n",
              "\n",
              "    .dataframe tbody tr th {\n",
              "        vertical-align: top;\n",
              "    }\n",
              "\n",
              "    .dataframe thead th {\n",
              "        text-align: right;\n",
              "    }\n",
              "</style>\n",
              "<table border=\"1\" class=\"dataframe\">\n",
              "  <thead>\n",
              "    <tr style=\"text-align: right;\">\n",
              "      <th></th>\n",
              "      <th>Cement</th>\n",
              "      <th>Blast Furnace Slag</th>\n",
              "      <th>Fly Ash</th>\n",
              "      <th>Water</th>\n",
              "      <th>Superplasticizer</th>\n",
              "      <th>Coarse Aggregate</th>\n",
              "      <th>Fine Aggregate</th>\n",
              "      <th>Age</th>\n",
              "    </tr>\n",
              "  </thead>\n",
              "  <tbody>\n",
              "    <tr>\n",
              "      <th>0</th>\n",
              "      <td>540.0</td>\n",
              "      <td>0.0</td>\n",
              "      <td>0.0</td>\n",
              "      <td>162.0</td>\n",
              "      <td>2.5</td>\n",
              "      <td>1040.0</td>\n",
              "      <td>676.0</td>\n",
              "      <td>28</td>\n",
              "    </tr>\n",
              "    <tr>\n",
              "      <th>1</th>\n",
              "      <td>540.0</td>\n",
              "      <td>0.0</td>\n",
              "      <td>0.0</td>\n",
              "      <td>162.0</td>\n",
              "      <td>2.5</td>\n",
              "      <td>1055.0</td>\n",
              "      <td>676.0</td>\n",
              "      <td>28</td>\n",
              "    </tr>\n",
              "    <tr>\n",
              "      <th>2</th>\n",
              "      <td>332.5</td>\n",
              "      <td>142.5</td>\n",
              "      <td>0.0</td>\n",
              "      <td>228.0</td>\n",
              "      <td>0.0</td>\n",
              "      <td>932.0</td>\n",
              "      <td>594.0</td>\n",
              "      <td>270</td>\n",
              "    </tr>\n",
              "    <tr>\n",
              "      <th>3</th>\n",
              "      <td>332.5</td>\n",
              "      <td>142.5</td>\n",
              "      <td>0.0</td>\n",
              "      <td>228.0</td>\n",
              "      <td>0.0</td>\n",
              "      <td>932.0</td>\n",
              "      <td>594.0</td>\n",
              "      <td>365</td>\n",
              "    </tr>\n",
              "    <tr>\n",
              "      <th>4</th>\n",
              "      <td>198.6</td>\n",
              "      <td>132.4</td>\n",
              "      <td>0.0</td>\n",
              "      <td>192.0</td>\n",
              "      <td>0.0</td>\n",
              "      <td>978.4</td>\n",
              "      <td>825.5</td>\n",
              "      <td>360</td>\n",
              "    </tr>\n",
              "  </tbody>\n",
              "</table>\n",
              "</div>"
            ],
            "text/plain": [
              "   Cement  Blast Furnace Slag  Fly Ash  ...  Coarse Aggregate  Fine Aggregate  Age\n",
              "0   540.0                 0.0      0.0  ...            1040.0           676.0   28\n",
              "1   540.0                 0.0      0.0  ...            1055.0           676.0   28\n",
              "2   332.5               142.5      0.0  ...             932.0           594.0  270\n",
              "3   332.5               142.5      0.0  ...             932.0           594.0  365\n",
              "4   198.6               132.4      0.0  ...             978.4           825.5  360\n",
              "\n",
              "[5 rows x 8 columns]"
            ]
          },
          "metadata": {
            "tags": []
          },
          "execution_count": 28
        }
      ]
    },
    {
      "cell_type": "code",
      "metadata": {
        "colab": {
          "base_uri": "https://localhost:8080/"
        },
        "id": "dm5eWJfvbdZs",
        "outputId": "9e7802ee-7fe3-4b42-effd-f1783be6aec1"
      },
      "source": [
        "target.head()"
      ],
      "execution_count": 29,
      "outputs": [
        {
          "output_type": "execute_result",
          "data": {
            "text/plain": [
              "0    79.99\n",
              "1    61.89\n",
              "2    40.27\n",
              "3    41.05\n",
              "4    44.30\n",
              "Name: Strength, dtype: float64"
            ]
          },
          "metadata": {
            "tags": []
          },
          "execution_count": 29
        }
      ]
    },
    {
      "cell_type": "markdown",
      "metadata": {
        "id": "zUBiyNCQbdZt"
      },
      "source": [
        "Finally, the last step is to normalize the data by substracting the mean and dividing by the standard deviation."
      ]
    },
    {
      "cell_type": "code",
      "metadata": {
        "colab": {
          "base_uri": "https://localhost:8080/",
          "height": 204
        },
        "id": "6YIToBjJbdZt",
        "outputId": "1f507991-5fc1-4093-f612-ad55cf626933"
      },
      "source": [
        "predictors_norm = (predictors - predictors.mean()) / predictors.std()\n",
        "predictors_norm.head()"
      ],
      "execution_count": 30,
      "outputs": [
        {
          "output_type": "execute_result",
          "data": {
            "text/html": [
              "<div>\n",
              "<style scoped>\n",
              "    .dataframe tbody tr th:only-of-type {\n",
              "        vertical-align: middle;\n",
              "    }\n",
              "\n",
              "    .dataframe tbody tr th {\n",
              "        vertical-align: top;\n",
              "    }\n",
              "\n",
              "    .dataframe thead th {\n",
              "        text-align: right;\n",
              "    }\n",
              "</style>\n",
              "<table border=\"1\" class=\"dataframe\">\n",
              "  <thead>\n",
              "    <tr style=\"text-align: right;\">\n",
              "      <th></th>\n",
              "      <th>Cement</th>\n",
              "      <th>Blast Furnace Slag</th>\n",
              "      <th>Fly Ash</th>\n",
              "      <th>Water</th>\n",
              "      <th>Superplasticizer</th>\n",
              "      <th>Coarse Aggregate</th>\n",
              "      <th>Fine Aggregate</th>\n",
              "      <th>Age</th>\n",
              "    </tr>\n",
              "  </thead>\n",
              "  <tbody>\n",
              "    <tr>\n",
              "      <th>0</th>\n",
              "      <td>2.476712</td>\n",
              "      <td>-0.856472</td>\n",
              "      <td>-0.846733</td>\n",
              "      <td>-0.916319</td>\n",
              "      <td>-0.620147</td>\n",
              "      <td>0.862735</td>\n",
              "      <td>-1.217079</td>\n",
              "      <td>-0.279597</td>\n",
              "    </tr>\n",
              "    <tr>\n",
              "      <th>1</th>\n",
              "      <td>2.476712</td>\n",
              "      <td>-0.856472</td>\n",
              "      <td>-0.846733</td>\n",
              "      <td>-0.916319</td>\n",
              "      <td>-0.620147</td>\n",
              "      <td>1.055651</td>\n",
              "      <td>-1.217079</td>\n",
              "      <td>-0.279597</td>\n",
              "    </tr>\n",
              "    <tr>\n",
              "      <th>2</th>\n",
              "      <td>0.491187</td>\n",
              "      <td>0.795140</td>\n",
              "      <td>-0.846733</td>\n",
              "      <td>2.174405</td>\n",
              "      <td>-1.038638</td>\n",
              "      <td>-0.526262</td>\n",
              "      <td>-2.239829</td>\n",
              "      <td>3.551340</td>\n",
              "    </tr>\n",
              "    <tr>\n",
              "      <th>3</th>\n",
              "      <td>0.491187</td>\n",
              "      <td>0.795140</td>\n",
              "      <td>-0.846733</td>\n",
              "      <td>2.174405</td>\n",
              "      <td>-1.038638</td>\n",
              "      <td>-0.526262</td>\n",
              "      <td>-2.239829</td>\n",
              "      <td>5.055221</td>\n",
              "    </tr>\n",
              "    <tr>\n",
              "      <th>4</th>\n",
              "      <td>-0.790075</td>\n",
              "      <td>0.678079</td>\n",
              "      <td>-0.846733</td>\n",
              "      <td>0.488555</td>\n",
              "      <td>-1.038638</td>\n",
              "      <td>0.070492</td>\n",
              "      <td>0.647569</td>\n",
              "      <td>4.976069</td>\n",
              "    </tr>\n",
              "  </tbody>\n",
              "</table>\n",
              "</div>"
            ],
            "text/plain": [
              "     Cement  Blast Furnace Slag  ...  Fine Aggregate       Age\n",
              "0  2.476712           -0.856472  ...       -1.217079 -0.279597\n",
              "1  2.476712           -0.856472  ...       -1.217079 -0.279597\n",
              "2  0.491187            0.795140  ...       -2.239829  3.551340\n",
              "3  0.491187            0.795140  ...       -2.239829  5.055221\n",
              "4 -0.790075            0.678079  ...        0.647569  4.976069\n",
              "\n",
              "[5 rows x 8 columns]"
            ]
          },
          "metadata": {
            "tags": []
          },
          "execution_count": 30
        }
      ]
    },
    {
      "cell_type": "code",
      "metadata": {
        "colab": {
          "base_uri": "https://localhost:8080/"
        },
        "id": "36E30vVibdZt",
        "outputId": "267496a8-cfd4-4e04-9c5f-3cf6089a3f9d"
      },
      "source": [
        "n_cols = predictors_norm.shape[1] # number of predictors\n",
        "n_cols"
      ],
      "execution_count": 31,
      "outputs": [
        {
          "output_type": "execute_result",
          "data": {
            "text/plain": [
              "8"
            ]
          },
          "metadata": {
            "tags": []
          },
          "execution_count": 31
        }
      ]
    },
    {
      "cell_type": "markdown",
      "metadata": {
        "id": "Nm0geJn3bdZu"
      },
      "source": [
        "<a id=\"item1\"></a>"
      ]
    },
    {
      "cell_type": "markdown",
      "metadata": {
        "id": "mW7R4ZdrbdZu"
      },
      "source": [
        "<a id=\"item1\"></a>"
      ]
    },
    {
      "cell_type": "markdown",
      "metadata": {
        "id": "_E2vXD2SbdZu"
      },
      "source": [
        "## Import Keras"
      ]
    },
    {
      "cell_type": "markdown",
      "metadata": {
        "id": "IZXymUtvbdZu"
      },
      "source": [
        "#### Let's go ahead and import the Keras library"
      ]
    },
    {
      "cell_type": "code",
      "metadata": {
        "id": "Qb2NbyTqbdZu"
      },
      "source": [
        "import keras"
      ],
      "execution_count": 32,
      "outputs": []
    },
    {
      "cell_type": "markdown",
      "metadata": {
        "id": "Zi9A6LGMbdZv"
      },
      "source": [
        "As you can see, the TensorFlow backend was used to install the Keras library."
      ]
    },
    {
      "cell_type": "markdown",
      "metadata": {
        "id": "4FxjCrRAbdZv"
      },
      "source": [
        "Let's import the rest of the packages from the Keras library that we will need to build our regressoin model."
      ]
    },
    {
      "cell_type": "code",
      "metadata": {
        "id": "FzN_tfECbdZv"
      },
      "source": [
        "from keras.models import Sequential\n",
        "from keras.layers import Dense"
      ],
      "execution_count": 33,
      "outputs": []
    },
    {
      "cell_type": "code",
      "metadata": {
        "id": "HkVuvEHUbdZv"
      },
      "source": [
        "# define regression model\n",
        "def regression_model():\n",
        "    # create model\n",
        "    model = Sequential()\n",
        "    model.add(Dense(10, activation='relu', input_shape=(n_cols,)))\n",
        "    model.add(Dense(1))\n",
        "    \n",
        "    # compile model\n",
        "    model.compile(optimizer='adam', loss='mean_squared_error')\n",
        "    return model"
      ],
      "execution_count": 34,
      "outputs": []
    },
    {
      "cell_type": "markdown",
      "metadata": {
        "id": "PYKGXNdxbdZv"
      },
      "source": [
        "The above function creates a model that has one hidden layer with 10 neurons and a ReLU activation function. It uses the adam optimizer and the mean squared error as the loss function."
      ]
    },
    {
      "cell_type": "markdown",
      "metadata": {
        "id": "dW1BiCZVbdZw"
      },
      "source": [
        "Let's import scikit-learn in order to randomly split the data into a training and test sets"
      ]
    },
    {
      "cell_type": "code",
      "metadata": {
        "id": "ubhM_wHAbdZw"
      },
      "source": [
        "from sklearn.model_selection import train_test_split"
      ],
      "execution_count": 35,
      "outputs": []
    },
    {
      "cell_type": "markdown",
      "metadata": {
        "id": "KoVR7Z-kbdZw"
      },
      "source": [
        "Splitting the data into a training and test sets by holding 30% of the data for testing"
      ]
    },
    {
      "cell_type": "code",
      "metadata": {
        "id": "CnB2C4LbbdZw"
      },
      "source": [
        "X_train, X_test, y_train, y_test = train_test_split(predictors_norm, target, test_size=0.3, random_state=42)"
      ],
      "execution_count": 36,
      "outputs": []
    },
    {
      "cell_type": "markdown",
      "metadata": {
        "id": "d2FzhnI7bdZw"
      },
      "source": [
        "## Train and Test the Network"
      ]
    },
    {
      "cell_type": "markdown",
      "metadata": {
        "id": "IDgVNtQZbdZx"
      },
      "source": [
        "Let's call the function now to create our model."
      ]
    },
    {
      "cell_type": "code",
      "metadata": {
        "id": "MTs9X2-sbdZx"
      },
      "source": [
        "# build the model\n",
        "model = regression_model()"
      ],
      "execution_count": 37,
      "outputs": []
    },
    {
      "cell_type": "markdown",
      "metadata": {
        "id": "QEIP_lM8bdZx"
      },
      "source": [
        "Next, we will train the model for 50 epochs.\n"
      ]
    },
    {
      "cell_type": "code",
      "metadata": {
        "colab": {
          "base_uri": "https://localhost:8080/"
        },
        "id": "N6QtHwxubdZx",
        "outputId": "875e622a-a9ab-4d15-fa69-e983908888f1"
      },
      "source": [
        "# fit the model\n",
        "epochs = 100\n",
        "model.fit(X_train, y_train, epochs=epochs, verbose=2)"
      ],
      "execution_count": 38,
      "outputs": [
        {
          "output_type": "stream",
          "text": [
            "Epoch 1/100\n",
            "23/23 - 1s - loss: 1689.9802\n",
            "Epoch 2/100\n",
            "23/23 - 0s - loss: 1671.0020\n",
            "Epoch 3/100\n",
            "23/23 - 0s - loss: 1653.5482\n",
            "Epoch 4/100\n",
            "23/23 - 0s - loss: 1637.5800\n",
            "Epoch 5/100\n",
            "23/23 - 0s - loss: 1622.6855\n",
            "Epoch 6/100\n",
            "23/23 - 0s - loss: 1608.7137\n",
            "Epoch 7/100\n",
            "23/23 - 0s - loss: 1595.3557\n",
            "Epoch 8/100\n",
            "23/23 - 0s - loss: 1582.5408\n",
            "Epoch 9/100\n",
            "23/23 - 0s - loss: 1570.0693\n",
            "Epoch 10/100\n",
            "23/23 - 0s - loss: 1557.7434\n",
            "Epoch 11/100\n",
            "23/23 - 0s - loss: 1545.4568\n",
            "Epoch 12/100\n",
            "23/23 - 0s - loss: 1533.3027\n",
            "Epoch 13/100\n",
            "23/23 - 0s - loss: 1520.9480\n",
            "Epoch 14/100\n",
            "23/23 - 0s - loss: 1508.5317\n",
            "Epoch 15/100\n",
            "23/23 - 0s - loss: 1495.9744\n",
            "Epoch 16/100\n",
            "23/23 - 0s - loss: 1483.0115\n",
            "Epoch 17/100\n",
            "23/23 - 0s - loss: 1469.6543\n",
            "Epoch 18/100\n",
            "23/23 - 0s - loss: 1455.7959\n",
            "Epoch 19/100\n",
            "23/23 - 0s - loss: 1441.4395\n",
            "Epoch 20/100\n",
            "23/23 - 0s - loss: 1426.4038\n",
            "Epoch 21/100\n",
            "23/23 - 0s - loss: 1410.5078\n",
            "Epoch 22/100\n",
            "23/23 - 0s - loss: 1393.8237\n",
            "Epoch 23/100\n",
            "23/23 - 0s - loss: 1376.5818\n",
            "Epoch 24/100\n",
            "23/23 - 0s - loss: 1358.2332\n",
            "Epoch 25/100\n",
            "23/23 - 0s - loss: 1339.0970\n",
            "Epoch 26/100\n",
            "23/23 - 0s - loss: 1319.4153\n",
            "Epoch 27/100\n",
            "23/23 - 0s - loss: 1298.9364\n",
            "Epoch 28/100\n",
            "23/23 - 0s - loss: 1277.5692\n",
            "Epoch 29/100\n",
            "23/23 - 0s - loss: 1255.7810\n",
            "Epoch 30/100\n",
            "23/23 - 0s - loss: 1233.3770\n",
            "Epoch 31/100\n",
            "23/23 - 0s - loss: 1210.0231\n",
            "Epoch 32/100\n",
            "23/23 - 0s - loss: 1186.3252\n",
            "Epoch 33/100\n",
            "23/23 - 0s - loss: 1162.1312\n",
            "Epoch 34/100\n",
            "23/23 - 0s - loss: 1137.4122\n",
            "Epoch 35/100\n",
            "23/23 - 0s - loss: 1112.6993\n",
            "Epoch 36/100\n",
            "23/23 - 0s - loss: 1087.6050\n",
            "Epoch 37/100\n",
            "23/23 - 0s - loss: 1062.4191\n",
            "Epoch 38/100\n",
            "23/23 - 0s - loss: 1037.1530\n",
            "Epoch 39/100\n",
            "23/23 - 0s - loss: 1012.0268\n",
            "Epoch 40/100\n",
            "23/23 - 0s - loss: 987.0689\n",
            "Epoch 41/100\n",
            "23/23 - 0s - loss: 962.3175\n",
            "Epoch 42/100\n",
            "23/23 - 0s - loss: 937.6573\n",
            "Epoch 43/100\n",
            "23/23 - 0s - loss: 913.0670\n",
            "Epoch 44/100\n",
            "23/23 - 0s - loss: 888.9534\n",
            "Epoch 45/100\n",
            "23/23 - 0s - loss: 864.4312\n",
            "Epoch 46/100\n",
            "23/23 - 0s - loss: 841.1340\n",
            "Epoch 47/100\n",
            "23/23 - 0s - loss: 817.2941\n",
            "Epoch 48/100\n",
            "23/23 - 0s - loss: 794.4034\n",
            "Epoch 49/100\n",
            "23/23 - 0s - loss: 771.5804\n",
            "Epoch 50/100\n",
            "23/23 - 0s - loss: 749.3289\n",
            "Epoch 51/100\n",
            "23/23 - 0s - loss: 727.3032\n",
            "Epoch 52/100\n",
            "23/23 - 0s - loss: 705.7631\n",
            "Epoch 53/100\n",
            "23/23 - 0s - loss: 684.7104\n",
            "Epoch 54/100\n",
            "23/23 - 0s - loss: 663.9969\n",
            "Epoch 55/100\n",
            "23/23 - 0s - loss: 644.1453\n",
            "Epoch 56/100\n",
            "23/23 - 0s - loss: 624.7234\n",
            "Epoch 57/100\n",
            "23/23 - 0s - loss: 605.7270\n",
            "Epoch 58/100\n",
            "23/23 - 0s - loss: 587.6042\n",
            "Epoch 59/100\n",
            "23/23 - 0s - loss: 569.6156\n",
            "Epoch 60/100\n",
            "23/23 - 0s - loss: 552.3929\n",
            "Epoch 61/100\n",
            "23/23 - 0s - loss: 535.6534\n",
            "Epoch 62/100\n",
            "23/23 - 0s - loss: 519.5220\n",
            "Epoch 63/100\n",
            "23/23 - 0s - loss: 504.0116\n",
            "Epoch 64/100\n",
            "23/23 - 0s - loss: 488.9785\n",
            "Epoch 65/100\n",
            "23/23 - 0s - loss: 474.6819\n",
            "Epoch 66/100\n",
            "23/23 - 0s - loss: 460.9813\n",
            "Epoch 67/100\n",
            "23/23 - 0s - loss: 447.3982\n",
            "Epoch 68/100\n",
            "23/23 - 0s - loss: 434.8951\n",
            "Epoch 69/100\n",
            "23/23 - 0s - loss: 422.4542\n",
            "Epoch 70/100\n",
            "23/23 - 0s - loss: 410.6770\n",
            "Epoch 71/100\n",
            "23/23 - 0s - loss: 399.6027\n",
            "Epoch 72/100\n",
            "23/23 - 0s - loss: 388.8267\n",
            "Epoch 73/100\n",
            "23/23 - 0s - loss: 378.5141\n",
            "Epoch 74/100\n",
            "23/23 - 0s - loss: 368.6169\n",
            "Epoch 75/100\n",
            "23/23 - 0s - loss: 359.5685\n",
            "Epoch 76/100\n",
            "23/23 - 0s - loss: 350.4814\n",
            "Epoch 77/100\n",
            "23/23 - 0s - loss: 342.1934\n",
            "Epoch 78/100\n",
            "23/23 - 0s - loss: 334.1313\n",
            "Epoch 79/100\n",
            "23/23 - 0s - loss: 326.6807\n",
            "Epoch 80/100\n",
            "23/23 - 0s - loss: 319.3711\n",
            "Epoch 81/100\n",
            "23/23 - 0s - loss: 312.5247\n",
            "Epoch 82/100\n",
            "23/23 - 0s - loss: 306.0436\n",
            "Epoch 83/100\n",
            "23/23 - 0s - loss: 299.9210\n",
            "Epoch 84/100\n",
            "23/23 - 0s - loss: 294.0759\n",
            "Epoch 85/100\n",
            "23/23 - 0s - loss: 288.3541\n",
            "Epoch 86/100\n",
            "23/23 - 0s - loss: 283.2674\n",
            "Epoch 87/100\n",
            "23/23 - 0s - loss: 278.0658\n",
            "Epoch 88/100\n",
            "23/23 - 0s - loss: 273.2675\n",
            "Epoch 89/100\n",
            "23/23 - 0s - loss: 268.7341\n",
            "Epoch 90/100\n",
            "23/23 - 0s - loss: 264.4448\n",
            "Epoch 91/100\n",
            "23/23 - 0s - loss: 260.2716\n",
            "Epoch 92/100\n",
            "23/23 - 0s - loss: 256.1982\n",
            "Epoch 93/100\n",
            "23/23 - 0s - loss: 252.5037\n",
            "Epoch 94/100\n",
            "23/23 - 0s - loss: 248.9457\n",
            "Epoch 95/100\n",
            "23/23 - 0s - loss: 245.4564\n",
            "Epoch 96/100\n",
            "23/23 - 0s - loss: 242.1247\n",
            "Epoch 97/100\n",
            "23/23 - 0s - loss: 238.9367\n",
            "Epoch 98/100\n",
            "23/23 - 0s - loss: 235.7726\n",
            "Epoch 99/100\n",
            "23/23 - 0s - loss: 232.7088\n",
            "Epoch 100/100\n",
            "23/23 - 0s - loss: 229.8363\n"
          ],
          "name": "stdout"
        },
        {
          "output_type": "execute_result",
          "data": {
            "text/plain": [
              "<keras.callbacks.History at 0x7f5eaa609610>"
            ]
          },
          "metadata": {
            "tags": []
          },
          "execution_count": 38
        }
      ]
    },
    {
      "cell_type": "markdown",
      "metadata": {
        "id": "izqyU-u3bdZx"
      },
      "source": [
        "Next we need to evaluate the model on the test data."
      ]
    },
    {
      "cell_type": "code",
      "metadata": {
        "colab": {
          "base_uri": "https://localhost:8080/"
        },
        "id": "nSiznVsmbdZy",
        "outputId": "d0ae0a0a-2f1d-494b-d78d-eb6113963053"
      },
      "source": [
        "loss_val = model.evaluate(X_test, y_test)\n",
        "y_pred = model.predict(X_test)\n",
        "loss_val"
      ],
      "execution_count": 39,
      "outputs": [
        {
          "output_type": "stream",
          "text": [
            "10/10 [==============================] - 0s 2ms/step - loss: 228.3920\n"
          ],
          "name": "stdout"
        },
        {
          "output_type": "execute_result",
          "data": {
            "text/plain": [
              "228.3919677734375"
            ]
          },
          "metadata": {
            "tags": []
          },
          "execution_count": 39
        }
      ]
    },
    {
      "cell_type": "markdown",
      "metadata": {
        "id": "SSGoYXIibdZy"
      },
      "source": [
        "Now we need to compute the mean squared error between the predicted concrete strength and the actual concrete strength."
      ]
    },
    {
      "cell_type": "markdown",
      "metadata": {
        "id": "mZISJ2n9bdZy"
      },
      "source": [
        "Let's import the mean_squared_error function from Scikit-learn."
      ]
    },
    {
      "cell_type": "code",
      "metadata": {
        "id": "2968NefibdZy"
      },
      "source": [
        "from sklearn.metrics import mean_squared_error"
      ],
      "execution_count": 40,
      "outputs": []
    },
    {
      "cell_type": "code",
      "metadata": {
        "colab": {
          "base_uri": "https://localhost:8080/"
        },
        "id": "lPpzaQxSbdZy",
        "outputId": "3c6f8980-3ba3-40a5-af6f-ae5d8ce54d0d"
      },
      "source": [
        "mean_square_error = mean_squared_error(y_test, y_pred)\n",
        "mean = np.mean(mean_square_error)\n",
        "standard_deviation = np.std(mean_square_error)\n",
        "print(mean, standard_deviation)"
      ],
      "execution_count": 41,
      "outputs": [
        {
          "output_type": "stream",
          "text": [
            "228.39195853600395 0.0\n"
          ],
          "name": "stdout"
        }
      ]
    },
    {
      "cell_type": "markdown",
      "metadata": {
        "id": "qRWIpfcybdZz"
      },
      "source": [
        "Create a list of 50 mean squared errors and report mean and the standard deviation of the mean squared errors."
      ]
    },
    {
      "cell_type": "code",
      "metadata": {
        "colab": {
          "base_uri": "https://localhost:8080/"
        },
        "id": "Ah3aFWn2bdZz",
        "outputId": "e2ad4a70-fbff-43b5-c200-b8fa6e63408b"
      },
      "source": [
        "total_mean_squared_errors = 50\n",
        "epochs = 100\n",
        "mean_squared_errors = []\n",
        "for i in range(0, total_mean_squared_errors):\n",
        "    X_train, X_test, y_train, y_test = train_test_split(predictors_norm, target, test_size=0.3, random_state=i)\n",
        "    model.fit(X_train, y_train, epochs=epochs, verbose=0)\n",
        "    MSE = model.evaluate(X_test, y_test, verbose=0)\n",
        "    print(\"MSE \"+str(i+1)+\": \"+str(MSE))\n",
        "    y_pred = model.predict(X_test)\n",
        "    mean_square_error = mean_squared_error(y_test, y_pred)\n",
        "    mean_squared_errors.append(mean_square_error)\n",
        "\n",
        "mean_squared_errors = np.array(mean_squared_errors)\n",
        "mean = np.mean(mean_squared_errors)\n",
        "standard_deviation = np.std(mean_squared_errors)\n",
        "\n",
        "print('\\n')\n",
        "print(\"Below is the mean and standard deviation of \" +str(total_mean_squared_errors) + \" mean squared errors with normalized data. Total number of epochs for each training is: \" +str(epochs) + \"\\n\")\n",
        "print(\"Mean: \"+str(mean))\n",
        "print(\"Standard Deviation: \"+str(standard_deviation))"
      ],
      "execution_count": 42,
      "outputs": [
        {
          "output_type": "stream",
          "text": [
            "MSE 1: 86.2396469116211\n",
            "MSE 2: 68.69584655761719\n",
            "MSE 3: 40.30857849121094\n",
            "MSE 4: 39.252750396728516\n",
            "MSE 5: 37.28645706176758\n",
            "MSE 6: 37.54557800292969\n",
            "MSE 7: 38.41786193847656\n",
            "MSE 8: 30.55942153930664\n",
            "MSE 9: 31.367332458496094\n",
            "MSE 10: 32.08747482299805\n",
            "MSE 11: 31.031707763671875\n",
            "MSE 12: 29.167804718017578\n",
            "MSE 13: 32.37705612182617\n",
            "MSE 14: 36.53057861328125\n",
            "MSE 15: 30.395097732543945\n",
            "MSE 16: 24.485706329345703\n",
            "MSE 17: 28.658761978149414\n",
            "MSE 18: 30.03765296936035\n",
            "MSE 19: 25.50555992126465\n",
            "MSE 20: 29.388710021972656\n",
            "MSE 21: 28.091920852661133\n",
            "MSE 22: 28.231853485107422\n",
            "MSE 23: 25.38604164123535\n",
            "MSE 24: 27.997488021850586\n",
            "MSE 25: 29.055313110351562\n",
            "MSE 26: 31.912254333496094\n",
            "MSE 27: 26.39688491821289\n",
            "MSE 28: 26.033781051635742\n",
            "MSE 29: 30.262388229370117\n",
            "MSE 30: 26.088159561157227\n",
            "MSE 31: 25.927000045776367\n",
            "MSE 32: 24.29895782470703\n",
            "MSE 33: 24.512470245361328\n",
            "MSE 34: 25.799686431884766\n",
            "MSE 35: 27.330236434936523\n",
            "MSE 36: 31.362218856811523\n",
            "MSE 37: 23.67302131652832\n",
            "MSE 38: 28.24854278564453\n",
            "MSE 39: 27.097963333129883\n",
            "MSE 40: 24.01229476928711\n",
            "MSE 41: 26.67574691772461\n",
            "MSE 42: 22.739742279052734\n",
            "MSE 43: 26.776803970336914\n",
            "MSE 44: 27.78067398071289\n",
            "MSE 45: 29.594350814819336\n",
            "MSE 46: 26.027008056640625\n",
            "MSE 47: 27.154117584228516\n",
            "MSE 48: 28.832584381103516\n",
            "MSE 49: 26.635419845581055\n",
            "MSE 50: 24.869155883789062\n",
            "\n",
            "\n",
            "Below is the mean and standard deviation of 50 mean squared errors with normalized data. Total number of epochs for each training is: 100\n",
            "\n",
            "Mean: 30.962873157864724\n",
            "Standard Deviation: 10.499759564052349\n"
          ],
          "name": "stdout"
        }
      ]
    },
    {
      "cell_type": "markdown",
      "metadata": {
        "id": "Hli76nHPd6Qv"
      },
      "source": [
        "So we got mean value 30.963 which is less than the previous value 53.087 and std is now 10.5 which was 25.935 previously."
      ]
    },
    {
      "cell_type": "code",
      "metadata": {
        "id": "A3ujIgIKbdZ0"
      },
      "source": [
        ""
      ],
      "execution_count": null,
      "outputs": []
    }
  ]
}